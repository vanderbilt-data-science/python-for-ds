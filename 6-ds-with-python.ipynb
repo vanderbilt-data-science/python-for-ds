{
 "cells": [
  {
   "cell_type": "markdown",
   "metadata": {},
   "source": [
    "# An intro to using Python in Jupyter notebooks for data science\n",
    "## Common tasks and grammar of data manipulation"
   ]
  },
  {
   "cell_type": "markdown",
   "metadata": {},
   "source": [
    "## Overview\n",
    "\n",
    "**Notebook purpose**: This notebook will illustrate some data manipulation tasks, and show how the grammar of data manipulation \\[select, filter, mutate, summarise, arrange\\] is achieved through Pandas and Python.  Keep in mind that there are *many* ways to achieve a certain grammar operation, and the syntax in this notebook absolutely does not demonstrate the exhaustive set.  \n",
    "\n",
    "**Data**: In this notebook, we demonstrate a data science task on the planets dataset from Seaborn using Pandas.  Pandas is a popular tool in Python for analyzing data. \n",
    "\n",
    "**Sources**:  This notebook was heavily influenced by the Python Data Science Handbook by Jake VanderPlas.  Some comments within this notebook are direct quotes from his notebooks."
   ]
  },
  {
   "cell_type": "markdown",
   "metadata": {},
   "source": [
    "Similarly to R, we start our processing by importing the packages that we need.  We will use pandas for our processing, which provides functionality for manipulating tabular data and other data types."
   ]
  },
  {
   "cell_type": "code",
   "execution_count": null,
   "metadata": {},
   "outputs": [],
   "source": [
    "#import statements\n",
    "import pandas as pd\n",
    "import numpy as np\n",
    "import seaborn as sns"
   ]
  },
  {
   "cell_type": "markdown",
   "metadata": {},
   "source": [
    "## Loading and viewing the data"
   ]
  },
  {
   "cell_type": "code",
   "execution_count": null,
   "metadata": {},
   "outputs": [],
   "source": [
    "#Load data\n",
    "planets = sns.load_dataset('planets')"
   ]
  },
  {
   "cell_type": "markdown",
   "metadata": {},
   "source": [
    "Here, we load the data directly from `seaborn`.  However data is regularly distributed in the form of .csv files.  We look at an example of this below in the section on joins."
   ]
  },
  {
   "cell_type": "code",
   "execution_count": null,
   "metadata": {},
   "outputs": [],
   "source": [
    "# Get a preview of the data\n"
   ]
  },
  {
   "cell_type": "code",
   "execution_count": null,
   "metadata": {},
   "outputs": [],
   "source": [
    "# How large is this data?\n"
   ]
  },
  {
   "cell_type": "code",
   "execution_count": null,
   "metadata": {},
   "outputs": [],
   "source": [
    "#General info about the data\n"
   ]
  },
  {
   "cell_type": "code",
   "execution_count": null,
   "metadata": {},
   "outputs": [],
   "source": [
    "#Abridged version of info\n"
   ]
  },
  {
   "cell_type": "code",
   "execution_count": null,
   "metadata": {},
   "outputs": [],
   "source": [
    "#Stats about the dataset (aggregation)\n"
   ]
  },
  {
   "cell_type": "code",
   "execution_count": null,
   "metadata": {},
   "outputs": [],
   "source": [
    "#Count na values\n"
   ]
  },
  {
   "cell_type": "code",
   "execution_count": null,
   "metadata": {},
   "outputs": [],
   "source": [
    "#Column names\n"
   ]
  },
  {
   "cell_type": "code",
   "execution_count": null,
   "metadata": {},
   "outputs": [],
   "source": [
    "#Get the value counts for the categorical data\n"
   ]
  },
  {
   "cell_type": "code",
   "execution_count": null,
   "metadata": {},
   "outputs": [],
   "source": [
    "# Look at the value counts for all of the columns: categorical histogram\n"
   ]
  },
  {
   "cell_type": "markdown",
   "metadata": {},
   "source": [
    "## Handling missing values"
   ]
  },
  {
   "cell_type": "code",
   "execution_count": null,
   "metadata": {},
   "outputs": [],
   "source": [
    "#Simplest approach if datset large enough: drop the missing values\n",
    "#Note: avoid performing operations on subsets of a data frame\n",
    "\n",
    "print('# of rows of returned (test) data frame: ', len(test))\n",
    "print('# of rows of original (df) data frame: ', len(planets))"
   ]
  },
  {
   "cell_type": "markdown",
   "metadata": {},
   "source": [
    "#### Filling missing values"
   ]
  },
  {
   "cell_type": "markdown",
   "metadata": {},
   "source": [
    "This is actually a lot of missing data - about half of the dataset.  Here, you'd also want to look at if there's something in particular that's missing to understand if it will throw off your analysis.  Is it a particular year that is missing?  For demonstration purposes, let's just fill in this value with the mean value (mean inputation).  We can do this using one of the parameters of the `fillna` method."
   ]
  },
  {
   "cell_type": "code",
   "execution_count": null,
   "metadata": {},
   "outputs": [],
   "source": [
    "#fill with the mean\n"
   ]
  },
  {
   "cell_type": "code",
   "execution_count": null,
   "metadata": {},
   "outputs": [],
   "source": [
    "#check to see if there are any null values\n"
   ]
  },
  {
   "cell_type": "markdown",
   "metadata": {},
   "source": [
    "**Question.**  Take a look at the parameter list for `.fillna`.  You can do this by typing `pd.DataFrame.fillna?`  There's a parameter there called `inplace`.  What do you think that this does?  Do you think you should use it?  How does this compare to R?"
   ]
  },
  {
   "cell_type": "markdown",
   "metadata": {},
   "source": [
    "#### Dropping missing values\n",
    "We could also just drop the missing data.  We can do that using the `dropna` method.  Since we'll be dropping rows, this will actually leave holes in our index.  We could leave the index as such, or we could also renumber the index.  We can reindex using the `reset_index` method, where the `drop` parameter prevents the old index from being added to the dataframe."
   ]
  },
  {
   "cell_type": "code",
   "execution_count": null,
   "metadata": {},
   "outputs": [],
   "source": [
    "#drop missing values and reindex\n",
    "\n",
    "print('# of rows of original (df) data frame: ', len(drop_planets))"
   ]
  },
  {
   "cell_type": "code",
   "execution_count": null,
   "metadata": {},
   "outputs": [],
   "source": [
    "#check to see if there are any null values\n"
   ]
  },
  {
   "cell_type": "markdown",
   "metadata": {},
   "source": [
    "## Select: choose data from the dataframe\n",
    "We've already learned how to select columns from the data frame!\n",
    "\n",
    "**Question.** What operators can we use in order to select columns from the dataframe?"
   ]
  },
  {
   "cell_type": "code",
   "execution_count": null,
   "metadata": {},
   "outputs": [],
   "source": [
    "#Obtain the method column\n"
   ]
  },
  {
   "cell_type": "markdown",
   "metadata": {},
   "source": [
    "#### Try it yourself!\n",
    "1. Get everything other than the orbital period column and display the first 10 rows\n",
    "2. Use .iloc to retrieve the last 2 columns\n",
    "3. Use .loc to get the `orbital_period` through `distance` slices.  Use .iloc to do the same."
   ]
  },
  {
   "cell_type": "code",
   "execution_count": null,
   "metadata": {},
   "outputs": [],
   "source": [
    "#Answer to 1\n"
   ]
  },
  {
   "cell_type": "code",
   "execution_count": null,
   "metadata": {},
   "outputs": [],
   "source": [
    "#Answer to 2\n"
   ]
  },
  {
   "cell_type": "code",
   "execution_count": null,
   "metadata": {},
   "outputs": [],
   "source": [
    "#Answer to 3\n"
   ]
  },
  {
   "cell_type": "markdown",
   "metadata": {},
   "source": [
    "## Filter: choose rows of data based on some criteria\n",
    "\n",
    "We've already learned how to filter rows based on a certain criteria!\n",
    "\n",
    "**Question.**  What methods do we have to filter rows?"
   ]
  },
  {
   "cell_type": "code",
   "execution_count": null,
   "metadata": {},
   "outputs": [],
   "source": [
    "# What entries have mass > 10?\n"
   ]
  },
  {
   "cell_type": "code",
   "execution_count": null,
   "metadata": {},
   "outputs": [],
   "source": [
    "# For the entries with orbital periods > 1000, what years were they discovered?\n"
   ]
  },
  {
   "cell_type": "markdown",
   "metadata": {},
   "source": [
    "## Mutate: Change or create new columns of data\n",
    "We can do this using our known select/filter commands!"
   ]
  },
  {
   "cell_type": "code",
   "execution_count": null,
   "metadata": {},
   "outputs": [],
   "source": [
    "# Create a new decade column using dictionary-like indexing\n"
   ]
  },
  {
   "cell_type": "code",
   "execution_count": null,
   "metadata": {},
   "outputs": [],
   "source": [
    "#Create a new column orbital_yr (orbital_period is currently assumed to be days), which expresses the orbital period in earth years.\n"
   ]
  },
  {
   "cell_type": "markdown",
   "metadata": {},
   "source": [
    "### The assign method\n",
    "You can use dynamically created columns using `assign` to create other columns for `dplyr`-like piping processing in Pandas 0.23.0. You can then use `assign`ed columns in later processing steps.  You will need to use a lambda function in order to achieve this.  It's an on-the-fly simple function that allows you to do computation.  Let's see how we could do this below!"
   ]
  },
  {
   "cell_type": "markdown",
   "metadata": {},
   "source": [
    "We can also use `drop` to drop columns that we don't want.  Let's see how below."
   ]
  },
  {
   "cell_type": "code",
   "execution_count": null,
   "metadata": {},
   "outputs": [],
   "source": [
    "#drop columns we just created\n"
   ]
  },
  {
   "cell_type": "code",
   "execution_count": null,
   "metadata": {},
   "outputs": [],
   "source": [
    "# Use assign to create the decade column above.\n"
   ]
  },
  {
   "cell_type": "code",
   "execution_count": null,
   "metadata": {},
   "outputs": [],
   "source": [
    "# Let's drop again to see the effect of chaining\n"
   ]
  },
  {
   "cell_type": "code",
   "execution_count": null,
   "metadata": {},
   "outputs": [],
   "source": [
    "# Now, let's try chaining to make a decade and a century column\n"
   ]
  },
  {
   "cell_type": "markdown",
   "metadata": {},
   "source": [
    "**Try it yourself!**\n",
    "1. Mutate a new column called `mass_rel`, which will calculate a planet's mass relative to earth's.  Assuming the scale of these values, you can assume the mass of the earth to be 5.97.  Try this using assign.\n",
    "2. Mutate a new column called `orbital_yr` using `assign`.  Using this new column, create a new column `orbital_weeks`, which converts `orbital_yr` to weeks.  (**Hint**:  There are 52 weeks in a year).\n",
    "3. Mutate two columns using assign.  The first will be called `x10`, which will multiply the `number` column by 10.  The second will be `dist_mi`, which will convert `distance` from astronomical units to miles.  Use the multiplier 93 for simplicity."
   ]
  },
  {
   "cell_type": "code",
   "execution_count": null,
   "metadata": {},
   "outputs": [],
   "source": [
    "#Answer to 1\n"
   ]
  },
  {
   "cell_type": "code",
   "execution_count": null,
   "metadata": {},
   "outputs": [],
   "source": [
    "#Answer to 2\n"
   ]
  },
  {
   "cell_type": "code",
   "execution_count": null,
   "metadata": {},
   "outputs": [],
   "source": [
    "#Answer to 3\n"
   ]
  },
  {
   "cell_type": "markdown",
   "metadata": {},
   "source": [
    "## Putting things together: transform and apply\n",
    "The `transform` and `apply` methods work on the specified elements of a Series or DataFrame.  A transformation can return some transformed version of the full data to recombine.  For such a transformation, the output is the same shape as the input.\n",
    "\n",
    "The ``apply()`` method lets you apply an arbitrary function to the group results.\n",
    "The function should take a ``DataFrame``, and return either a Pandas object (e.g., ``DataFrame``, ``Series``) or a scalar; the combine operation will be tailored to the type of output returned."
   ]
  },
  {
   "cell_type": "code",
   "execution_count": null,
   "metadata": {},
   "outputs": [],
   "source": [
    "# Create a new column, 'mass_std' which normalizes the the mass of the planets\n"
   ]
  },
  {
   "cell_type": "code",
   "execution_count": null,
   "metadata": {},
   "outputs": [],
   "source": [
    "#Create a new column method_min which labels everything other than Radial Velocity, Transit, Imaging, and Microlensing as 'Other'\n"
   ]
  },
  {
   "cell_type": "code",
   "execution_count": null,
   "metadata": {},
   "outputs": [],
   "source": [
    "#check to see if things worked how you expected\n"
   ]
  },
  {
   "cell_type": "markdown",
   "metadata": {},
   "source": [
    "## Groupby and summarize: group items by some desired similarity\n",
    "As with R, groupby alone doesn't do much; however, combined with summarizing functionality, it can be very powerful.  Recall that summarizing functions reduce the dimensionality of the data down to one or more values.  Let's see how this works in Python."
   ]
  },
  {
   "cell_type": "code",
   "execution_count": null,
   "metadata": {},
   "outputs": [],
   "source": [
    "#How many planets are there for each method_min type?\n",
    "\n",
    "\n",
    "#We can also return a particular column\n"
   ]
  },
  {
   "cell_type": "code",
   "execution_count": null,
   "metadata": {},
   "outputs": [],
   "source": [
    "#What is the mean distance for all of the planet systems (given by the `number` column)\n"
   ]
  },
  {
   "cell_type": "markdown",
   "metadata": {},
   "source": [
    "You can also group by multiple keys by passing in a list of keys:"
   ]
  },
  {
   "cell_type": "code",
   "execution_count": null,
   "metadata": {},
   "outputs": [],
   "source": [
    "#group by multiple keys"
   ]
  },
  {
   "cell_type": "markdown",
   "metadata": {},
   "source": [
    "### The `agg` function\n",
    "You can use the `agg` function most aptly performs the `summarise` functionality.  You can use this function to perform several operations on different rows/columns of the data.  Using `agg`, you can pass in a list of the operations you want to do on the columns using a string, pandas, or numpy function as below:"
   ]
  },
  {
   "cell_type": "code",
   "execution_count": null,
   "metadata": {},
   "outputs": [],
   "source": [
    "#Find the max, median, and min of mass and distance\n"
   ]
  },
  {
   "cell_type": "markdown",
   "metadata": {},
   "source": [
    "You can also apply specific aggregation functions on specific columns.  You can do this by using the column names as keys and the functions (as strings) as values."
   ]
  },
  {
   "cell_type": "code",
   "execution_count": null,
   "metadata": {},
   "outputs": [],
   "source": [
    "# Find the total counts of the numbers column, the mean of the distance column\n"
   ]
  },
  {
   "cell_type": "markdown",
   "metadata": {},
   "source": [
    "**Try it yourself!!**\n",
    "1. How many planets are there for each of the raw `method`s?\n",
    "2. What is the mean and max orbital period for each method for each planet system (`number` variable)\n",
    "3. **Bonus**: What are the maximum masses for planets with a distance of >1000 and <1000?"
   ]
  },
  {
   "cell_type": "code",
   "execution_count": null,
   "metadata": {},
   "outputs": [],
   "source": [
    "#Answer to 1\n"
   ]
  },
  {
   "cell_type": "code",
   "execution_count": null,
   "metadata": {},
   "outputs": [],
   "source": [
    "#Answer to 2\n"
   ]
  },
  {
   "cell_type": "code",
   "execution_count": null,
   "metadata": {},
   "outputs": [],
   "source": [
    "#Answer to 3\n"
   ]
  },
  {
   "cell_type": "markdown",
   "metadata": {},
   "source": [
    "## Arrange: change the ordering of the data"
   ]
  },
  {
   "cell_type": "code",
   "execution_count": null,
   "metadata": {},
   "outputs": [],
   "source": [
    "#Sort data according to age\n"
   ]
  },
  {
   "cell_type": "code",
   "execution_count": null,
   "metadata": {},
   "outputs": [],
   "source": [
    "#Sort data according to number, ascending"
   ]
  },
  {
   "cell_type": "code",
   "execution_count": null,
   "metadata": {},
   "outputs": [],
   "source": [
    "#Sort data according to mass and distance"
   ]
  },
  {
   "cell_type": "code",
   "execution_count": null,
   "metadata": {},
   "outputs": [],
   "source": [
    "#Sort data according to mass - ascending and distance - descending"
   ]
  },
  {
   "cell_type": "markdown",
   "metadata": {},
   "source": [
    "**Try it yourself!**\n",
    "1. Sort rows by `year` and `distance`\n",
    "2. Sort rows by `orbital_weeks` ascending and `dist_mi` descending"
   ]
  },
  {
   "cell_type": "code",
   "execution_count": null,
   "metadata": {},
   "outputs": [],
   "source": [
    "#Answer 1\n"
   ]
  },
  {
   "cell_type": "code",
   "execution_count": null,
   "metadata": {},
   "outputs": [],
   "source": [
    "#Answer 2\n"
   ]
  },
  {
   "cell_type": "markdown",
   "metadata": {},
   "source": [
    "# Join: Put datasets together based on matching keys\n",
    "\n",
    "There are many ways to perform joins in python.  One way is through the `merge` method.  The `concat` method is extremely valuable when there are several dataframes to be joined.  An astronomers csv file is provided which contains an astronomer corresponding to many years.  This will be used during the join."
   ]
  },
  {
   "cell_type": "code",
   "execution_count": null,
   "metadata": {},
   "outputs": [],
   "source": [
    "#load the astronomers dataset locally, called `astronomers.csv`\n"
   ]
  },
  {
   "cell_type": "code",
   "execution_count": null,
   "metadata": {},
   "outputs": [],
   "source": [
    "#Perform an inner join on the data using the 'year' column as the key\n"
   ]
  },
  {
   "cell_type": "code",
   "execution_count": null,
   "metadata": {},
   "outputs": [],
   "source": [
    "#Can also perform an outer join to see if anything was missed\n"
   ]
  },
  {
   "cell_type": "markdown",
   "metadata": {},
   "source": [
    "## Plotting examples"
   ]
  },
  {
   "cell_type": "code",
   "execution_count": null,
   "metadata": {},
   "outputs": [],
   "source": [
    "#create scatter plot using pandas"
   ]
  },
  {
   "cell_type": "code",
   "execution_count": null,
   "metadata": {},
   "outputs": [],
   "source": [
    "#create pairplot using seaborn"
   ]
  },
  {
   "cell_type": "markdown",
   "metadata": {},
   "source": [
    "# What have we learned?\n",
    "1. General functions to get an understanding of the dataset\n",
    "2. Select functions\n",
    "3. Filter functions\n",
    "4. Mutate functions\n",
    "    - `Assign`\n",
    "5. `Transform` and `Apply`\n",
    "5. Groupby and summarise functions\n",
    "6. Aggregation functions\n",
    "7. Joining functions\n",
    "8. Plotting functions\n",
    "\n",
    "Good luck with your data science endeavors using Python!"
   ]
  }
 ],
 "metadata": {
  "kernelspec": {
   "display_name": "Python 3",
   "language": "python",
   "name": "python3"
  }
 },
 "nbformat": 4,
 "nbformat_minor": 4
}
