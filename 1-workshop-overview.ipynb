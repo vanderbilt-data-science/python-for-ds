{
 "cells": [
  {
   "cell_type": "markdown",
   "metadata": {},
   "source": [
    "# Data Science with Python: Overview\n",
    "> Workshop Outline"
   ]
  },
  {
   "cell_type": "markdown",
   "metadata": {},
   "source": [
    "Welcome to the DSI workshops on learning Python and command-line git!  In the following two workshops, you'll learn the basics of Python programming and also explore packages for data science with Python.  This notebook contains all of the preflight videos you'll watch before coming to the workshops as well as what we'll cover during the workshops."
   ]
  },
  {
   "cell_type": "markdown",
   "metadata": {},
   "source": [
    "## Python Basics and Python for Data Science\n",
    "In these workshops, we'll jointly look at Python basics and Python packages for data science.  We'll cover python basics including basic data types and data structures and functions.  We'll also see how the grammar of data manipulation looks for Python in terms of `select`, `filter`, `mutate`, `arrange`, and `summarise`; additionally, we'll look at `groupby`s and performing joins.  \n",
    "\n",
    "### Resources\n",
    "\n",
    "- [A Whirlwind Tour of Python, Jake VanderPlas](https://github.com/jakevdp/WhirlwindTourOfPython)\n",
    "- [Python Data Science Handbook, Jake VanderPlas](https://github.com/jakevdp/PythonDataScienceHandbook)\n",
    "- [Introduction to Python (Datacamp Youtube Playlist)](https://www.youtube.com/watch?v=-Rf4fZDQ0yw&list=PLjgj6kdf_snaw8QnlhK5f3DzFDFKDU5f4)\n",
    "- [Introduction to Python (freeCodeCamp.org)](https://www.youtube.com/watch?v=rfscVS0vtbw)\n",
    "\n",
    "### Topics\n",
    "- Python data structures: Lists and Dictionaries\n",
    "- Pandas data structures: Series, DataFrame, and Index\n",
    "- Data structures: Indexing and Selection\n",
    "- Computations using data structures\n",
    "- Grammar of data manipulation:\n",
    "    - selecting data\n",
    "    - filtering rows of data\n",
    "    - creating new computations on the data\n",
    "    - changing the order of the data\n",
    "    - summarising the data\n",
    "- Grouping data based on keys\n",
    "- Joining data"
   ]
  },
  {
   "cell_type": "markdown",
   "metadata": {},
   "source": [
    "## Git Overview\n",
    "In this workshop, we'll provide a brief introduction to git at the command line.  We'll briefly discuss the basic commands to interact with your local repo and its relationship to the remote repo."
   ]
  }
 ],
 "metadata": {
  "kernelspec": {
   "display_name": "Python 3",
   "language": "python",
   "name": "python3"
  }
 },
 "nbformat": 4,
 "nbformat_minor": 4
}
